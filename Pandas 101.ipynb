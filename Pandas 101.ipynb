{
 "cells": [
  {
   "cell_type": "code",
   "execution_count": 8,
   "metadata": {},
   "outputs": [],
   "source": [
    "import pandas as pd\n",
    "import numpy as np"
   ]
  },
  {
   "cell_type": "code",
   "execution_count": 9,
   "metadata": {},
   "outputs": [],
   "source": [
    "mylist = [5.4,6.1,1.7,99.8]\n",
    "myseries1 = pd.Series(mylist)\n",
    "myarray = np.array(data = mylist)"
   ]
  },
  {
   "cell_type": "code",
   "execution_count": 4,
   "metadata": {},
   "outputs": [
    {
     "data": {
      "text/plain": [
       "0     5.4\n",
       "1     6.1\n",
       "2     1.7\n",
       "3    99.8\n",
       "dtype: float64"
      ]
     },
     "execution_count": 4,
     "metadata": {},
     "output_type": "execute_result"
    }
   ],
   "source": [
    "myseries1"
   ]
  },
  {
   "cell_type": "code",
   "execution_count": 10,
   "metadata": {},
   "outputs": [
    {
     "name": "stdout",
     "output_type": "stream",
     "text": [
      "0     5.4\n",
      "1     6.1\n",
      "2     1.7\n",
      "3    99.8\n",
      "dtype: float64\n"
     ]
    }
   ],
   "source": [
    "myseries2 = pd.Series(data=myarray)\n",
    "print(myseries2)"
   ]
  },
  {
   "cell_type": "code",
   "execution_count": 11,
   "metadata": {},
   "outputs": [
    {
     "name": "stdout",
     "output_type": "stream",
     "text": [
      "1.7\n"
     ]
    }
   ],
   "source": [
    "print(myseries1[2])"
   ]
  },
  {
   "cell_type": "code",
   "execution_count": 12,
   "metadata": {},
   "outputs": [],
   "source": [
    "mylabels = ['first','second','third','fourth']"
   ]
  },
  {
   "cell_type": "code",
   "execution_count": 13,
   "metadata": {},
   "outputs": [],
   "source": [
    "myseries3 = pd.Series(data=mylist,index=mylabels)"
   ]
  },
  {
   "cell_type": "code",
   "execution_count": 15,
   "metadata": {},
   "outputs": [],
   "source": [
    "temp = pd.Series(mylabels,mylist)"
   ]
  },
  {
   "cell_type": "code",
   "execution_count": 16,
   "metadata": {},
   "outputs": [
    {
     "data": {
      "text/plain": [
       "first      5.4\n",
       "second     6.1\n",
       "third      1.7\n",
       "fourth    99.8\n",
       "dtype: float64"
      ]
     },
     "execution_count": 16,
     "metadata": {},
     "output_type": "execute_result"
    }
   ],
   "source": [
    "myseries3"
   ]
  },
  {
   "cell_type": "code",
   "execution_count": 17,
   "metadata": {},
   "outputs": [
    {
     "data": {
      "text/plain": [
       "5.4      first\n",
       "6.1     second\n",
       "1.7      third\n",
       "99.8    fourth\n",
       "dtype: object"
      ]
     },
     "execution_count": 17,
     "metadata": {},
     "output_type": "execute_result"
    }
   ],
   "source": [
    "temp"
   ]
  },
  {
   "cell_type": "code",
   "execution_count": 18,
   "metadata": {},
   "outputs": [
    {
     "name": "stdout",
     "output_type": "stream",
     "text": [
      "6.1\n"
     ]
    }
   ],
   "source": [
    "myseries4 = pd.Series(mylist,mylabels)\n",
    "print(myseries4['second'])"
   ]
  },
  {
   "cell_type": "code",
   "execution_count": 20,
   "metadata": {},
   "outputs": [
    {
     "data": {
      "text/plain": [
       "first      5.4\n",
       "second     6.1\n",
       "third      1.7\n",
       "fourth    99.8\n",
       "dtype: float64"
      ]
     },
     "execution_count": 20,
     "metadata": {},
     "output_type": "execute_result"
    }
   ],
   "source": [
    "myseries4"
   ]
  },
  {
   "cell_type": "code",
   "execution_count": 19,
   "metadata": {},
   "outputs": [
    {
     "name": "stdout",
     "output_type": "stream",
     "text": [
      "first     5.5\n",
      "third     1.1\n",
      "fourth    8.8\n",
      "fifth     1.6\n",
      "dtype: float64\n",
      "\n",
      "fifth       NaN\n",
      "first      10.9\n",
      "fourth    108.6\n",
      "second      NaN\n",
      "third       2.8\n",
      "dtype: float64\n"
     ]
    }
   ],
   "source": [
    "myseries5 = pd.Series([5.5,1.1,8.8,1.6],['first','third','fourth','fifth'])\n",
    "print(myseries5)\n",
    "print('')\n",
    "print(myseries5+myseries4)"
   ]
  },
  {
   "cell_type": "code",
   "execution_count": 30,
   "metadata": {},
   "outputs": [],
   "source": [
    "df1 = pd.concat([myseries4,myseries5],axis=1,sort=False)\n",
    "df1.columns = ['series4','series5']"
   ]
  },
  {
   "cell_type": "code",
   "execution_count": 31,
   "metadata": {},
   "outputs": [
    {
     "data": {
      "text/html": [
       "<div>\n",
       "<style scoped>\n",
       "    .dataframe tbody tr th:only-of-type {\n",
       "        vertical-align: middle;\n",
       "    }\n",
       "\n",
       "    .dataframe tbody tr th {\n",
       "        vertical-align: top;\n",
       "    }\n",
       "\n",
       "    .dataframe thead th {\n",
       "        text-align: right;\n",
       "    }\n",
       "</style>\n",
       "<table border=\"1\" class=\"dataframe\">\n",
       "  <thead>\n",
       "    <tr style=\"text-align: right;\">\n",
       "      <th></th>\n",
       "      <th>series4</th>\n",
       "      <th>series5</th>\n",
       "    </tr>\n",
       "  </thead>\n",
       "  <tbody>\n",
       "    <tr>\n",
       "      <th>first</th>\n",
       "      <td>5.4</td>\n",
       "      <td>5.5</td>\n",
       "    </tr>\n",
       "    <tr>\n",
       "      <th>second</th>\n",
       "      <td>6.1</td>\n",
       "      <td>NaN</td>\n",
       "    </tr>\n",
       "    <tr>\n",
       "      <th>third</th>\n",
       "      <td>1.7</td>\n",
       "      <td>1.1</td>\n",
       "    </tr>\n",
       "    <tr>\n",
       "      <th>fourth</th>\n",
       "      <td>99.8</td>\n",
       "      <td>8.8</td>\n",
       "    </tr>\n",
       "    <tr>\n",
       "      <th>fifth</th>\n",
       "      <td>NaN</td>\n",
       "      <td>1.6</td>\n",
       "    </tr>\n",
       "  </tbody>\n",
       "</table>\n",
       "</div>"
      ],
      "text/plain": [
       "        series4  series5\n",
       "first       5.4      5.5\n",
       "second      6.1      NaN\n",
       "third       1.7      1.1\n",
       "fourth     99.8      8.8\n",
       "fifth       NaN      1.6"
      ]
     },
     "execution_count": 31,
     "metadata": {},
     "output_type": "execute_result"
    }
   ],
   "source": [
    "df1"
   ]
  },
  {
   "cell_type": "code",
   "execution_count": 32,
   "metadata": {},
   "outputs": [],
   "source": [
    "df2 = pd.concat([myseries4,myseries5],axis=0,sort=False)\n",
    "df2.columns = ['series4','series5']"
   ]
  },
  {
   "cell_type": "code",
   "execution_count": 33,
   "metadata": {},
   "outputs": [
    {
     "data": {
      "text/plain": [
       "first      5.4\n",
       "second     6.1\n",
       "third      1.7\n",
       "fourth    99.8\n",
       "first      5.5\n",
       "third      1.1\n",
       "fourth     8.8\n",
       "fifth      1.6\n",
       "dtype: float64"
      ]
     },
     "execution_count": 33,
     "metadata": {},
     "output_type": "execute_result"
    }
   ],
   "source": [
    "df2"
   ]
  },
  {
   "cell_type": "code",
   "execution_count": 34,
   "metadata": {},
   "outputs": [
    {
     "data": {
      "text/html": [
       "<div>\n",
       "<style scoped>\n",
       "    .dataframe tbody tr th:only-of-type {\n",
       "        vertical-align: middle;\n",
       "    }\n",
       "\n",
       "    .dataframe tbody tr th {\n",
       "        vertical-align: top;\n",
       "    }\n",
       "\n",
       "    .dataframe thead th {\n",
       "        text-align: right;\n",
       "    }\n",
       "</style>\n",
       "<table border=\"1\" class=\"dataframe\">\n",
       "  <thead>\n",
       "    <tr style=\"text-align: right;\">\n",
       "      <th></th>\n",
       "      <th>0</th>\n",
       "      <th>1</th>\n",
       "      <th>2</th>\n",
       "      <th>3</th>\n",
       "      <th>4</th>\n",
       "    </tr>\n",
       "  </thead>\n",
       "  <tbody>\n",
       "    <tr>\n",
       "      <th>0</th>\n",
       "      <td>-2.031187</td>\n",
       "      <td>-1.234556</td>\n",
       "      <td>-0.796590</td>\n",
       "      <td>0.391679</td>\n",
       "      <td>-0.077389</td>\n",
       "    </tr>\n",
       "    <tr>\n",
       "      <th>1</th>\n",
       "      <td>1.353885</td>\n",
       "      <td>1.121878</td>\n",
       "      <td>-0.166917</td>\n",
       "      <td>0.481624</td>\n",
       "      <td>-0.398749</td>\n",
       "    </tr>\n",
       "    <tr>\n",
       "      <th>2</th>\n",
       "      <td>0.482813</td>\n",
       "      <td>0.054582</td>\n",
       "      <td>-0.811258</td>\n",
       "      <td>0.958225</td>\n",
       "      <td>-0.777398</td>\n",
       "    </tr>\n",
       "    <tr>\n",
       "      <th>3</th>\n",
       "      <td>0.115038</td>\n",
       "      <td>-0.629958</td>\n",
       "      <td>0.653590</td>\n",
       "      <td>0.242763</td>\n",
       "      <td>-0.670090</td>\n",
       "    </tr>\n",
       "    <tr>\n",
       "      <th>4</th>\n",
       "      <td>-0.082750</td>\n",
       "      <td>1.221765</td>\n",
       "      <td>-1.368568</td>\n",
       "      <td>0.126231</td>\n",
       "      <td>-1.054583</td>\n",
       "    </tr>\n",
       "  </tbody>\n",
       "</table>\n",
       "</div>"
      ],
      "text/plain": [
       "          0         1         2         3         4\n",
       "0 -2.031187 -1.234556 -0.796590  0.391679 -0.077389\n",
       "1  1.353885  1.121878 -0.166917  0.481624 -0.398749\n",
       "2  0.482813  0.054582 -0.811258  0.958225 -0.777398\n",
       "3  0.115038 -0.629958  0.653590  0.242763 -0.670090\n",
       "4 -0.082750  1.221765 -1.368568  0.126231 -1.054583"
      ]
     },
     "execution_count": 34,
     "metadata": {},
     "output_type": "execute_result"
    }
   ],
   "source": [
    "df3 = pd.DataFrame(np.random.randn(5,5))\n",
    "df3"
   ]
  },
  {
   "cell_type": "code",
   "execution_count": 35,
   "metadata": {},
   "outputs": [
    {
     "data": {
      "text/html": [
       "<div>\n",
       "<style scoped>\n",
       "    .dataframe tbody tr th:only-of-type {\n",
       "        vertical-align: middle;\n",
       "    }\n",
       "\n",
       "    .dataframe tbody tr th {\n",
       "        vertical-align: top;\n",
       "    }\n",
       "\n",
       "    .dataframe thead th {\n",
       "        text-align: right;\n",
       "    }\n",
       "</style>\n",
       "<table border=\"1\" class=\"dataframe\">\n",
       "  <thead>\n",
       "    <tr style=\"text-align: right;\">\n",
       "      <th></th>\n",
       "      <th>first col</th>\n",
       "      <th>second col</th>\n",
       "      <th>third col</th>\n",
       "      <th>fourth col</th>\n",
       "      <th>fifth col</th>\n",
       "    </tr>\n",
       "  </thead>\n",
       "  <tbody>\n",
       "    <tr>\n",
       "      <th>first row</th>\n",
       "      <td>-3.075684</td>\n",
       "      <td>0.019490</td>\n",
       "      <td>0.632669</td>\n",
       "      <td>-0.343938</td>\n",
       "      <td>-0.498723</td>\n",
       "    </tr>\n",
       "    <tr>\n",
       "      <th>second row</th>\n",
       "      <td>-0.935237</td>\n",
       "      <td>-0.933809</td>\n",
       "      <td>-0.582264</td>\n",
       "      <td>0.625252</td>\n",
       "      <td>2.097612</td>\n",
       "    </tr>\n",
       "    <tr>\n",
       "      <th>third row</th>\n",
       "      <td>0.160734</td>\n",
       "      <td>-0.093593</td>\n",
       "      <td>0.741650</td>\n",
       "      <td>-0.854001</td>\n",
       "      <td>0.842118</td>\n",
       "    </tr>\n",
       "    <tr>\n",
       "      <th>fourth row</th>\n",
       "      <td>0.107964</td>\n",
       "      <td>-0.850493</td>\n",
       "      <td>0.800470</td>\n",
       "      <td>-2.008947</td>\n",
       "      <td>-1.187297</td>\n",
       "    </tr>\n",
       "    <tr>\n",
       "      <th>fifth row</th>\n",
       "      <td>-0.354099</td>\n",
       "      <td>0.314050</td>\n",
       "      <td>-0.154098</td>\n",
       "      <td>-0.253282</td>\n",
       "      <td>-0.905114</td>\n",
       "    </tr>\n",
       "  </tbody>\n",
       "</table>\n",
       "</div>"
      ],
      "text/plain": [
       "            first col  second col  third col  fourth col  fifth col\n",
       "first row   -3.075684    0.019490   0.632669   -0.343938  -0.498723\n",
       "second row  -0.935237   -0.933809  -0.582264    0.625252   2.097612\n",
       "third row    0.160734   -0.093593   0.741650   -0.854001   0.842118\n",
       "fourth row   0.107964   -0.850493   0.800470   -2.008947  -1.187297\n",
       "fifth row   -0.354099    0.314050  -0.154098   -0.253282  -0.905114"
      ]
     },
     "execution_count": 35,
     "metadata": {},
     "output_type": "execute_result"
    }
   ],
   "source": [
    "df4 = pd.DataFrame(np.random.randn(5,5),index=['first row','second row','third row','fourth row','fifth row'],\n",
    "                   columns=['first col','second col','third col','fourth col','fifth col'])\n",
    "df4"
   ]
  },
  {
   "cell_type": "code",
   "execution_count": 37,
   "metadata": {},
   "outputs": [
    {
     "name": "stdout",
     "output_type": "stream",
     "text": [
      "first row     0.019490\n",
      "second row   -0.933809\n",
      "third row    -0.093593\n",
      "fourth row   -0.850493\n",
      "fifth row     0.314050\n",
      "Name: second col, dtype: float64\n",
      "\n"
     ]
    },
    {
     "data": {
      "text/html": [
       "<div>\n",
       "<style scoped>\n",
       "    .dataframe tbody tr th:only-of-type {\n",
       "        vertical-align: middle;\n",
       "    }\n",
       "\n",
       "    .dataframe tbody tr th {\n",
       "        vertical-align: top;\n",
       "    }\n",
       "\n",
       "    .dataframe thead th {\n",
       "        text-align: right;\n",
       "    }\n",
       "</style>\n",
       "<table border=\"1\" class=\"dataframe\">\n",
       "  <thead>\n",
       "    <tr style=\"text-align: right;\">\n",
       "      <th></th>\n",
       "      <th>third col</th>\n",
       "      <th>first col</th>\n",
       "    </tr>\n",
       "  </thead>\n",
       "  <tbody>\n",
       "    <tr>\n",
       "      <th>first row</th>\n",
       "      <td>0.632669</td>\n",
       "      <td>-3.075684</td>\n",
       "    </tr>\n",
       "    <tr>\n",
       "      <th>second row</th>\n",
       "      <td>-0.582264</td>\n",
       "      <td>-0.935237</td>\n",
       "    </tr>\n",
       "    <tr>\n",
       "      <th>third row</th>\n",
       "      <td>0.741650</td>\n",
       "      <td>0.160734</td>\n",
       "    </tr>\n",
       "    <tr>\n",
       "      <th>fourth row</th>\n",
       "      <td>0.800470</td>\n",
       "      <td>0.107964</td>\n",
       "    </tr>\n",
       "    <tr>\n",
       "      <th>fifth row</th>\n",
       "      <td>-0.154098</td>\n",
       "      <td>-0.354099</td>\n",
       "    </tr>\n",
       "  </tbody>\n",
       "</table>\n",
       "</div>"
      ],
      "text/plain": [
       "            third col  first col\n",
       "first row    0.632669  -3.075684\n",
       "second row  -0.582264  -0.935237\n",
       "third row    0.741650   0.160734\n",
       "fourth row   0.800470   0.107964\n",
       "fifth row   -0.154098  -0.354099"
      ]
     },
     "execution_count": 37,
     "metadata": {},
     "output_type": "execute_result"
    }
   ],
   "source": [
    "print(df4['second col'])\n",
    "print('')\n",
    "df4[['third col','first col']]"
   ]
  },
  {
   "cell_type": "code",
   "execution_count": 39,
   "metadata": {},
   "outputs": [
    {
     "data": {
      "text/plain": [
       "first col     0.107964\n",
       "second col   -0.850493\n",
       "third col     0.800470\n",
       "fourth col   -2.008947\n",
       "fifth col    -1.187297\n",
       "Name: fourth row, dtype: float64"
      ]
     },
     "execution_count": 39,
     "metadata": {},
     "output_type": "execute_result"
    }
   ],
   "source": [
    "df4.loc['fourth row']"
   ]
  },
  {
   "cell_type": "code",
   "execution_count": 40,
   "metadata": {},
   "outputs": [
    {
     "data": {
      "text/html": [
       "<div>\n",
       "<style scoped>\n",
       "    .dataframe tbody tr th:only-of-type {\n",
       "        vertical-align: middle;\n",
       "    }\n",
       "\n",
       "    .dataframe tbody tr th {\n",
       "        vertical-align: top;\n",
       "    }\n",
       "\n",
       "    .dataframe thead th {\n",
       "        text-align: right;\n",
       "    }\n",
       "</style>\n",
       "<table border=\"1\" class=\"dataframe\">\n",
       "  <thead>\n",
       "    <tr style=\"text-align: right;\">\n",
       "      <th></th>\n",
       "      <th>first col</th>\n",
       "      <th>second col</th>\n",
       "      <th>third col</th>\n",
       "      <th>fourth col</th>\n",
       "      <th>fifth col</th>\n",
       "    </tr>\n",
       "  </thead>\n",
       "  <tbody>\n",
       "    <tr>\n",
       "      <th>first row</th>\n",
       "      <td>-3.075684</td>\n",
       "      <td>0.019490</td>\n",
       "      <td>0.632669</td>\n",
       "      <td>-0.343938</td>\n",
       "      <td>-0.498723</td>\n",
       "    </tr>\n",
       "    <tr>\n",
       "      <th>second row</th>\n",
       "      <td>-0.935237</td>\n",
       "      <td>-0.933809</td>\n",
       "      <td>-0.582264</td>\n",
       "      <td>0.625252</td>\n",
       "      <td>2.097612</td>\n",
       "    </tr>\n",
       "  </tbody>\n",
       "</table>\n",
       "</div>"
      ],
      "text/plain": [
       "            first col  second col  third col  fourth col  fifth col\n",
       "first row   -3.075684    0.019490   0.632669   -0.343938  -0.498723\n",
       "second row  -0.935237   -0.933809  -0.582264    0.625252   2.097612"
      ]
     },
     "execution_count": 40,
     "metadata": {},
     "output_type": "execute_result"
    }
   ],
   "source": [
    "df4.loc[df4['first col']<-0.855281]"
   ]
  },
  {
   "cell_type": "code",
   "execution_count": 41,
   "metadata": {},
   "outputs": [
    {
     "data": {
      "text/plain": [
       "0.7416500641297219"
      ]
     },
     "execution_count": 41,
     "metadata": {},
     "output_type": "execute_result"
    }
   ],
   "source": [
    "df4['third col'].loc['third row']"
   ]
  },
  {
   "cell_type": "code",
   "execution_count": 43,
   "metadata": {},
   "outputs": [
    {
     "data": {
      "text/plain": [
       "first col     0.160734\n",
       "second col   -0.093593\n",
       "third col     0.741650\n",
       "fourth col   -0.854001\n",
       "fifth col     0.842118\n",
       "Name: third row, dtype: float64"
      ]
     },
     "execution_count": 43,
     "metadata": {},
     "output_type": "execute_result"
    }
   ],
   "source": [
    "df4.iloc[2] # iloc = index location 2 "
   ]
  },
  {
   "cell_type": "code",
   "execution_count": 44,
   "metadata": {},
   "outputs": [
    {
     "data": {
      "text/html": [
       "<div>\n",
       "<style scoped>\n",
       "    .dataframe tbody tr th:only-of-type {\n",
       "        vertical-align: middle;\n",
       "    }\n",
       "\n",
       "    .dataframe tbody tr th {\n",
       "        vertical-align: top;\n",
       "    }\n",
       "\n",
       "    .dataframe thead th {\n",
       "        text-align: right;\n",
       "    }\n",
       "</style>\n",
       "<table border=\"1\" class=\"dataframe\">\n",
       "  <thead>\n",
       "    <tr style=\"text-align: right;\">\n",
       "      <th></th>\n",
       "      <th>first col</th>\n",
       "      <th>second col</th>\n",
       "      <th>third col</th>\n",
       "      <th>fourth col</th>\n",
       "      <th>fifth col</th>\n",
       "    </tr>\n",
       "  </thead>\n",
       "  <tbody>\n",
       "    <tr>\n",
       "      <th>first row</th>\n",
       "      <td>False</td>\n",
       "      <td>True</td>\n",
       "      <td>True</td>\n",
       "      <td>False</td>\n",
       "      <td>False</td>\n",
       "    </tr>\n",
       "    <tr>\n",
       "      <th>second row</th>\n",
       "      <td>False</td>\n",
       "      <td>False</td>\n",
       "      <td>False</td>\n",
       "      <td>True</td>\n",
       "      <td>True</td>\n",
       "    </tr>\n",
       "    <tr>\n",
       "      <th>third row</th>\n",
       "      <td>True</td>\n",
       "      <td>False</td>\n",
       "      <td>True</td>\n",
       "      <td>False</td>\n",
       "      <td>True</td>\n",
       "    </tr>\n",
       "    <tr>\n",
       "      <th>fourth row</th>\n",
       "      <td>True</td>\n",
       "      <td>False</td>\n",
       "      <td>True</td>\n",
       "      <td>False</td>\n",
       "      <td>False</td>\n",
       "    </tr>\n",
       "    <tr>\n",
       "      <th>fifth row</th>\n",
       "      <td>False</td>\n",
       "      <td>True</td>\n",
       "      <td>False</td>\n",
       "      <td>False</td>\n",
       "      <td>False</td>\n",
       "    </tr>\n",
       "  </tbody>\n",
       "</table>\n",
       "</div>"
      ],
      "text/plain": [
       "            first col  second col  third col  fourth col  fifth col\n",
       "first row       False        True       True       False      False\n",
       "second row      False       False      False        True       True\n",
       "third row        True       False       True       False       True\n",
       "fourth row       True       False       True       False      False\n",
       "fifth row       False        True      False       False      False"
      ]
     },
     "execution_count": 44,
     "metadata": {},
     "output_type": "execute_result"
    }
   ],
   "source": [
    "df4>0"
   ]
  },
  {
   "cell_type": "code",
   "execution_count": 45,
   "metadata": {},
   "outputs": [
    {
     "data": {
      "text/html": [
       "<div>\n",
       "<style scoped>\n",
       "    .dataframe tbody tr th:only-of-type {\n",
       "        vertical-align: middle;\n",
       "    }\n",
       "\n",
       "    .dataframe tbody tr th {\n",
       "        vertical-align: top;\n",
       "    }\n",
       "\n",
       "    .dataframe thead th {\n",
       "        text-align: right;\n",
       "    }\n",
       "</style>\n",
       "<table border=\"1\" class=\"dataframe\">\n",
       "  <thead>\n",
       "    <tr style=\"text-align: right;\">\n",
       "      <th></th>\n",
       "      <th>first col</th>\n",
       "      <th>second col</th>\n",
       "      <th>third col</th>\n",
       "      <th>fourth col</th>\n",
       "      <th>fifth col</th>\n",
       "    </tr>\n",
       "  </thead>\n",
       "  <tbody>\n",
       "    <tr>\n",
       "      <th>first row</th>\n",
       "      <td>NaN</td>\n",
       "      <td>0.01949</td>\n",
       "      <td>0.632669</td>\n",
       "      <td>NaN</td>\n",
       "      <td>NaN</td>\n",
       "    </tr>\n",
       "    <tr>\n",
       "      <th>second row</th>\n",
       "      <td>NaN</td>\n",
       "      <td>NaN</td>\n",
       "      <td>NaN</td>\n",
       "      <td>0.625252</td>\n",
       "      <td>2.097612</td>\n",
       "    </tr>\n",
       "    <tr>\n",
       "      <th>third row</th>\n",
       "      <td>0.160734</td>\n",
       "      <td>NaN</td>\n",
       "      <td>0.741650</td>\n",
       "      <td>NaN</td>\n",
       "      <td>0.842118</td>\n",
       "    </tr>\n",
       "    <tr>\n",
       "      <th>fourth row</th>\n",
       "      <td>0.107964</td>\n",
       "      <td>NaN</td>\n",
       "      <td>0.800470</td>\n",
       "      <td>NaN</td>\n",
       "      <td>NaN</td>\n",
       "    </tr>\n",
       "    <tr>\n",
       "      <th>fifth row</th>\n",
       "      <td>NaN</td>\n",
       "      <td>0.31405</td>\n",
       "      <td>NaN</td>\n",
       "      <td>NaN</td>\n",
       "      <td>NaN</td>\n",
       "    </tr>\n",
       "  </tbody>\n",
       "</table>\n",
       "</div>"
      ],
      "text/plain": [
       "            first col  second col  third col  fourth col  fifth col\n",
       "first row         NaN     0.01949   0.632669         NaN        NaN\n",
       "second row        NaN         NaN        NaN    0.625252   2.097612\n",
       "third row    0.160734         NaN   0.741650         NaN   0.842118\n",
       "fourth row   0.107964         NaN   0.800470         NaN        NaN\n",
       "fifth row         NaN     0.31405        NaN         NaN        NaN"
      ]
     },
     "execution_count": 45,
     "metadata": {},
     "output_type": "execute_result"
    }
   ],
   "source": [
    "df4[df4>0]"
   ]
  },
  {
   "cell_type": "code",
   "execution_count": 48,
   "metadata": {},
   "outputs": [
    {
     "data": {
      "text/html": [
       "<div>\n",
       "<style scoped>\n",
       "    .dataframe tbody tr th:only-of-type {\n",
       "        vertical-align: middle;\n",
       "    }\n",
       "\n",
       "    .dataframe tbody tr th {\n",
       "        vertical-align: top;\n",
       "    }\n",
       "\n",
       "    .dataframe thead th {\n",
       "        text-align: right;\n",
       "    }\n",
       "</style>\n",
       "<table border=\"1\" class=\"dataframe\">\n",
       "  <thead>\n",
       "    <tr style=\"text-align: right;\">\n",
       "      <th></th>\n",
       "      <th>first col</th>\n",
       "      <th>second col</th>\n",
       "      <th>third col</th>\n",
       "      <th>fourth col</th>\n",
       "      <th>fifth col</th>\n",
       "      <th>sixth col</th>\n",
       "    </tr>\n",
       "  </thead>\n",
       "  <tbody>\n",
       "    <tr>\n",
       "      <th>first row</th>\n",
       "      <td>-3.075684</td>\n",
       "      <td>0.019490</td>\n",
       "      <td>0.632669</td>\n",
       "      <td>-0.343938</td>\n",
       "      <td>-0.498723</td>\n",
       "      <td>1.965150</td>\n",
       "    </tr>\n",
       "    <tr>\n",
       "      <th>second row</th>\n",
       "      <td>-0.935237</td>\n",
       "      <td>-0.933809</td>\n",
       "      <td>-0.582264</td>\n",
       "      <td>0.625252</td>\n",
       "      <td>2.097612</td>\n",
       "      <td>1.273879</td>\n",
       "    </tr>\n",
       "    <tr>\n",
       "      <th>third row</th>\n",
       "      <td>0.160734</td>\n",
       "      <td>-0.093593</td>\n",
       "      <td>0.741650</td>\n",
       "      <td>-0.854001</td>\n",
       "      <td>0.842118</td>\n",
       "      <td>0.218802</td>\n",
       "    </tr>\n",
       "    <tr>\n",
       "      <th>fourth row</th>\n",
       "      <td>0.107964</td>\n",
       "      <td>-0.850493</td>\n",
       "      <td>0.800470</td>\n",
       "      <td>-2.008947</td>\n",
       "      <td>-1.187297</td>\n",
       "      <td>0.319317</td>\n",
       "    </tr>\n",
       "    <tr>\n",
       "      <th>fifth row</th>\n",
       "      <td>-0.354099</td>\n",
       "      <td>0.314050</td>\n",
       "      <td>-0.154098</td>\n",
       "      <td>-0.253282</td>\n",
       "      <td>-0.905114</td>\n",
       "      <td>-0.656227</td>\n",
       "    </tr>\n",
       "  </tbody>\n",
       "</table>\n",
       "</div>"
      ],
      "text/plain": [
       "            first col  second col  third col  fourth col  fifth col  sixth col\n",
       "first row   -3.075684    0.019490   0.632669   -0.343938  -0.498723   1.965150\n",
       "second row  -0.935237   -0.933809  -0.582264    0.625252   2.097612   1.273879\n",
       "third row    0.160734   -0.093593   0.741650   -0.854001   0.842118   0.218802\n",
       "fourth row   0.107964   -0.850493   0.800470   -2.008947  -1.187297   0.319317\n",
       "fifth row   -0.354099    0.314050  -0.154098   -0.253282  -0.905114  -0.656227"
      ]
     },
     "execution_count": 48,
     "metadata": {},
     "output_type": "execute_result"
    }
   ],
   "source": [
    "df4['sixth col'] = np.random.randn(5,1) #number of rows of exisitng df i.e df3(5) = number of rows of random matrix (5)\n",
    "df4"
   ]
  },
  {
   "cell_type": "code",
   "execution_count": 49,
   "metadata": {},
   "outputs": [
    {
     "data": {
      "text/html": [
       "<div>\n",
       "<style scoped>\n",
       "    .dataframe tbody tr th:only-of-type {\n",
       "        vertical-align: middle;\n",
       "    }\n",
       "\n",
       "    .dataframe tbody tr th {\n",
       "        vertical-align: top;\n",
       "    }\n",
       "\n",
       "    .dataframe thead th {\n",
       "        text-align: right;\n",
       "    }\n",
       "</style>\n",
       "<table border=\"1\" class=\"dataframe\">\n",
       "  <thead>\n",
       "    <tr style=\"text-align: right;\">\n",
       "      <th></th>\n",
       "      <th>second col</th>\n",
       "      <th>third col</th>\n",
       "      <th>fourth col</th>\n",
       "      <th>fifth col</th>\n",
       "      <th>sixth col</th>\n",
       "    </tr>\n",
       "  </thead>\n",
       "  <tbody>\n",
       "    <tr>\n",
       "      <th>first row</th>\n",
       "      <td>0.019490</td>\n",
       "      <td>0.632669</td>\n",
       "      <td>-0.343938</td>\n",
       "      <td>-0.498723</td>\n",
       "      <td>1.965150</td>\n",
       "    </tr>\n",
       "    <tr>\n",
       "      <th>second row</th>\n",
       "      <td>-0.933809</td>\n",
       "      <td>-0.582264</td>\n",
       "      <td>0.625252</td>\n",
       "      <td>2.097612</td>\n",
       "      <td>1.273879</td>\n",
       "    </tr>\n",
       "    <tr>\n",
       "      <th>third row</th>\n",
       "      <td>-0.093593</td>\n",
       "      <td>0.741650</td>\n",
       "      <td>-0.854001</td>\n",
       "      <td>0.842118</td>\n",
       "      <td>0.218802</td>\n",
       "    </tr>\n",
       "    <tr>\n",
       "      <th>fourth row</th>\n",
       "      <td>-0.850493</td>\n",
       "      <td>0.800470</td>\n",
       "      <td>-2.008947</td>\n",
       "      <td>-1.187297</td>\n",
       "      <td>0.319317</td>\n",
       "    </tr>\n",
       "    <tr>\n",
       "      <th>fifth row</th>\n",
       "      <td>0.314050</td>\n",
       "      <td>-0.154098</td>\n",
       "      <td>-0.253282</td>\n",
       "      <td>-0.905114</td>\n",
       "      <td>-0.656227</td>\n",
       "    </tr>\n",
       "  </tbody>\n",
       "</table>\n",
       "</div>"
      ],
      "text/plain": [
       "            second col  third col  fourth col  fifth col  sixth col\n",
       "first row     0.019490   0.632669   -0.343938  -0.498723   1.965150\n",
       "second row   -0.933809  -0.582264    0.625252   2.097612   1.273879\n",
       "third row    -0.093593   0.741650   -0.854001   0.842118   0.218802\n",
       "fourth row   -0.850493   0.800470   -2.008947  -1.187297   0.319317\n",
       "fifth row     0.314050  -0.154098   -0.253282  -0.905114  -0.656227"
      ]
     },
     "execution_count": 49,
     "metadata": {},
     "output_type": "execute_result"
    }
   ],
   "source": [
    "df4.drop('first col',axis=1)"
   ]
  },
  {
   "cell_type": "code",
   "execution_count": 50,
   "metadata": {},
   "outputs": [
    {
     "data": {
      "text/html": [
       "<div>\n",
       "<style scoped>\n",
       "    .dataframe tbody tr th:only-of-type {\n",
       "        vertical-align: middle;\n",
       "    }\n",
       "\n",
       "    .dataframe tbody tr th {\n",
       "        vertical-align: top;\n",
       "    }\n",
       "\n",
       "    .dataframe thead th {\n",
       "        text-align: right;\n",
       "    }\n",
       "</style>\n",
       "<table border=\"1\" class=\"dataframe\">\n",
       "  <thead>\n",
       "    <tr style=\"text-align: right;\">\n",
       "      <th></th>\n",
       "      <th>first col</th>\n",
       "      <th>second col</th>\n",
       "      <th>third col</th>\n",
       "      <th>fourth col</th>\n",
       "      <th>fifth col</th>\n",
       "      <th>sixth col</th>\n",
       "    </tr>\n",
       "  </thead>\n",
       "  <tbody>\n",
       "    <tr>\n",
       "      <th>first row</th>\n",
       "      <td>-3.075684</td>\n",
       "      <td>0.019490</td>\n",
       "      <td>0.632669</td>\n",
       "      <td>-0.343938</td>\n",
       "      <td>-0.498723</td>\n",
       "      <td>1.965150</td>\n",
       "    </tr>\n",
       "    <tr>\n",
       "      <th>second row</th>\n",
       "      <td>-0.935237</td>\n",
       "      <td>-0.933809</td>\n",
       "      <td>-0.582264</td>\n",
       "      <td>0.625252</td>\n",
       "      <td>2.097612</td>\n",
       "      <td>1.273879</td>\n",
       "    </tr>\n",
       "    <tr>\n",
       "      <th>third row</th>\n",
       "      <td>0.160734</td>\n",
       "      <td>-0.093593</td>\n",
       "      <td>0.741650</td>\n",
       "      <td>-0.854001</td>\n",
       "      <td>0.842118</td>\n",
       "      <td>0.218802</td>\n",
       "    </tr>\n",
       "    <tr>\n",
       "      <th>fourth row</th>\n",
       "      <td>0.107964</td>\n",
       "      <td>-0.850493</td>\n",
       "      <td>0.800470</td>\n",
       "      <td>-2.008947</td>\n",
       "      <td>-1.187297</td>\n",
       "      <td>0.319317</td>\n",
       "    </tr>\n",
       "    <tr>\n",
       "      <th>fifth row</th>\n",
       "      <td>-0.354099</td>\n",
       "      <td>0.314050</td>\n",
       "      <td>-0.154098</td>\n",
       "      <td>-0.253282</td>\n",
       "      <td>-0.905114</td>\n",
       "      <td>-0.656227</td>\n",
       "    </tr>\n",
       "  </tbody>\n",
       "</table>\n",
       "</div>"
      ],
      "text/plain": [
       "            first col  second col  third col  fourth col  fifth col  sixth col\n",
       "first row   -3.075684    0.019490   0.632669   -0.343938  -0.498723   1.965150\n",
       "second row  -0.935237   -0.933809  -0.582264    0.625252   2.097612   1.273879\n",
       "third row    0.160734   -0.093593   0.741650   -0.854001   0.842118   0.218802\n",
       "fourth row   0.107964   -0.850493   0.800470   -2.008947  -1.187297   0.319317\n",
       "fifth row   -0.354099    0.314050  -0.154098   -0.253282  -0.905114  -0.656227"
      ]
     },
     "execution_count": 50,
     "metadata": {},
     "output_type": "execute_result"
    }
   ],
   "source": [
    "df4"
   ]
  },
  {
   "cell_type": "code",
   "execution_count": 51,
   "metadata": {},
   "outputs": [],
   "source": [
    "# df4 = df4.drop('first col',axis=1)\n",
    "df4.drop('first col',axis=1,inplace =True)"
   ]
  },
  {
   "cell_type": "code",
   "execution_count": 52,
   "metadata": {},
   "outputs": [
    {
     "data": {
      "text/html": [
       "<div>\n",
       "<style scoped>\n",
       "    .dataframe tbody tr th:only-of-type {\n",
       "        vertical-align: middle;\n",
       "    }\n",
       "\n",
       "    .dataframe tbody tr th {\n",
       "        vertical-align: top;\n",
       "    }\n",
       "\n",
       "    .dataframe thead th {\n",
       "        text-align: right;\n",
       "    }\n",
       "</style>\n",
       "<table border=\"1\" class=\"dataframe\">\n",
       "  <thead>\n",
       "    <tr style=\"text-align: right;\">\n",
       "      <th></th>\n",
       "      <th>second col</th>\n",
       "      <th>third col</th>\n",
       "      <th>fourth col</th>\n",
       "      <th>fifth col</th>\n",
       "      <th>sixth col</th>\n",
       "    </tr>\n",
       "  </thead>\n",
       "  <tbody>\n",
       "    <tr>\n",
       "      <th>first row</th>\n",
       "      <td>0.019490</td>\n",
       "      <td>0.632669</td>\n",
       "      <td>-0.343938</td>\n",
       "      <td>-0.498723</td>\n",
       "      <td>1.965150</td>\n",
       "    </tr>\n",
       "    <tr>\n",
       "      <th>third row</th>\n",
       "      <td>-0.093593</td>\n",
       "      <td>0.741650</td>\n",
       "      <td>-0.854001</td>\n",
       "      <td>0.842118</td>\n",
       "      <td>0.218802</td>\n",
       "    </tr>\n",
       "    <tr>\n",
       "      <th>fourth row</th>\n",
       "      <td>-0.850493</td>\n",
       "      <td>0.800470</td>\n",
       "      <td>-2.008947</td>\n",
       "      <td>-1.187297</td>\n",
       "      <td>0.319317</td>\n",
       "    </tr>\n",
       "    <tr>\n",
       "      <th>fifth row</th>\n",
       "      <td>0.314050</td>\n",
       "      <td>-0.154098</td>\n",
       "      <td>-0.253282</td>\n",
       "      <td>-0.905114</td>\n",
       "      <td>-0.656227</td>\n",
       "    </tr>\n",
       "  </tbody>\n",
       "</table>\n",
       "</div>"
      ],
      "text/plain": [
       "            second col  third col  fourth col  fifth col  sixth col\n",
       "first row     0.019490   0.632669   -0.343938  -0.498723   1.965150\n",
       "third row    -0.093593   0.741650   -0.854001   0.842118   0.218802\n",
       "fourth row   -0.850493   0.800470   -2.008947  -1.187297   0.319317\n",
       "fifth row     0.314050  -0.154098   -0.253282  -0.905114  -0.656227"
      ]
     },
     "execution_count": 52,
     "metadata": {},
     "output_type": "execute_result"
    }
   ],
   "source": [
    "df4 = df4.drop('second row',axis=0)\n",
    "df4"
   ]
  },
  {
   "cell_type": "code",
   "execution_count": 54,
   "metadata": {},
   "outputs": [
    {
     "data": {
      "text/html": [
       "<div>\n",
       "<style scoped>\n",
       "    .dataframe tbody tr th:only-of-type {\n",
       "        vertical-align: middle;\n",
       "    }\n",
       "\n",
       "    .dataframe tbody tr th {\n",
       "        vertical-align: top;\n",
       "    }\n",
       "\n",
       "    .dataframe thead th {\n",
       "        text-align: right;\n",
       "    }\n",
       "</style>\n",
       "<table border=\"1\" class=\"dataframe\">\n",
       "  <thead>\n",
       "    <tr style=\"text-align: right;\">\n",
       "      <th></th>\n",
       "      <th>index</th>\n",
       "      <th>second col</th>\n",
       "      <th>third col</th>\n",
       "      <th>fourth col</th>\n",
       "      <th>fifth col</th>\n",
       "      <th>sixth col</th>\n",
       "    </tr>\n",
       "  </thead>\n",
       "  <tbody>\n",
       "    <tr>\n",
       "      <th>0</th>\n",
       "      <td>first row</td>\n",
       "      <td>0.019490</td>\n",
       "      <td>0.632669</td>\n",
       "      <td>-0.343938</td>\n",
       "      <td>-0.498723</td>\n",
       "      <td>1.965150</td>\n",
       "    </tr>\n",
       "    <tr>\n",
       "      <th>1</th>\n",
       "      <td>third row</td>\n",
       "      <td>-0.093593</td>\n",
       "      <td>0.741650</td>\n",
       "      <td>-0.854001</td>\n",
       "      <td>0.842118</td>\n",
       "      <td>0.218802</td>\n",
       "    </tr>\n",
       "    <tr>\n",
       "      <th>2</th>\n",
       "      <td>fourth row</td>\n",
       "      <td>-0.850493</td>\n",
       "      <td>0.800470</td>\n",
       "      <td>-2.008947</td>\n",
       "      <td>-1.187297</td>\n",
       "      <td>0.319317</td>\n",
       "    </tr>\n",
       "    <tr>\n",
       "      <th>3</th>\n",
       "      <td>fifth row</td>\n",
       "      <td>0.314050</td>\n",
       "      <td>-0.154098</td>\n",
       "      <td>-0.253282</td>\n",
       "      <td>-0.905114</td>\n",
       "      <td>-0.656227</td>\n",
       "    </tr>\n",
       "  </tbody>\n",
       "</table>\n",
       "</div>"
      ],
      "text/plain": [
       "        index  second col  third col  fourth col  fifth col  sixth col\n",
       "0   first row    0.019490   0.632669   -0.343938  -0.498723   1.965150\n",
       "1   third row   -0.093593   0.741650   -0.854001   0.842118   0.218802\n",
       "2  fourth row   -0.850493   0.800470   -2.008947  -1.187297   0.319317\n",
       "3   fifth row    0.314050  -0.154098   -0.253282  -0.905114  -0.656227"
      ]
     },
     "execution_count": 54,
     "metadata": {},
     "output_type": "execute_result"
    }
   ],
   "source": [
    "df4.reset_index()"
   ]
  },
  {
   "cell_type": "code",
   "execution_count": 61,
   "metadata": {},
   "outputs": [],
   "source": [
    "df4.reset_index(inplace = True)"
   ]
  },
  {
   "cell_type": "code",
   "execution_count": 62,
   "metadata": {},
   "outputs": [
    {
     "data": {
      "text/plain": [
       "Index(['index', 'second col', 'third col', 'fourth col', 'fifth col',\n",
       "       'sixth col'],\n",
       "      dtype='object')"
      ]
     },
     "execution_count": 62,
     "metadata": {},
     "output_type": "execute_result"
    }
   ],
   "source": [
    "df4.columns"
   ]
  },
  {
   "cell_type": "code",
   "execution_count": 64,
   "metadata": {},
   "outputs": [
    {
     "data": {
      "text/plain": [
       "'index'"
      ]
     },
     "execution_count": 64,
     "metadata": {},
     "output_type": "execute_result"
    }
   ],
   "source": [
    "x = df4.columns\n",
    "x[0]"
   ]
  },
  {
   "cell_type": "code",
   "execution_count": 65,
   "metadata": {},
   "outputs": [
    {
     "data": {
      "text/html": [
       "<div>\n",
       "<style scoped>\n",
       "    .dataframe tbody tr th:only-of-type {\n",
       "        vertical-align: middle;\n",
       "    }\n",
       "\n",
       "    .dataframe tbody tr th {\n",
       "        vertical-align: top;\n",
       "    }\n",
       "\n",
       "    .dataframe thead th {\n",
       "        text-align: right;\n",
       "    }\n",
       "</style>\n",
       "<table border=\"1\" class=\"dataframe\">\n",
       "  <thead>\n",
       "    <tr style=\"text-align: right;\">\n",
       "      <th></th>\n",
       "      <th>index</th>\n",
       "      <th>second col</th>\n",
       "      <th>third col</th>\n",
       "      <th>fourth col</th>\n",
       "      <th>fifth col</th>\n",
       "      <th>sixth col</th>\n",
       "      <th>new name</th>\n",
       "    </tr>\n",
       "  </thead>\n",
       "  <tbody>\n",
       "    <tr>\n",
       "      <th>0</th>\n",
       "      <td>first row</td>\n",
       "      <td>0.019490</td>\n",
       "      <td>0.632669</td>\n",
       "      <td>-0.343938</td>\n",
       "      <td>-0.498723</td>\n",
       "      <td>1.965150</td>\n",
       "      <td>This</td>\n",
       "    </tr>\n",
       "    <tr>\n",
       "      <th>1</th>\n",
       "      <td>third row</td>\n",
       "      <td>-0.093593</td>\n",
       "      <td>0.741650</td>\n",
       "      <td>-0.854001</td>\n",
       "      <td>0.842118</td>\n",
       "      <td>0.218802</td>\n",
       "      <td>is</td>\n",
       "    </tr>\n",
       "    <tr>\n",
       "      <th>2</th>\n",
       "      <td>fourth row</td>\n",
       "      <td>-0.850493</td>\n",
       "      <td>0.800470</td>\n",
       "      <td>-2.008947</td>\n",
       "      <td>-1.187297</td>\n",
       "      <td>0.319317</td>\n",
       "      <td>the</td>\n",
       "    </tr>\n",
       "    <tr>\n",
       "      <th>3</th>\n",
       "      <td>fifth row</td>\n",
       "      <td>0.314050</td>\n",
       "      <td>-0.154098</td>\n",
       "      <td>-0.253282</td>\n",
       "      <td>-0.905114</td>\n",
       "      <td>-0.656227</td>\n",
       "      <td>row</td>\n",
       "    </tr>\n",
       "  </tbody>\n",
       "</table>\n",
       "</div>"
      ],
      "text/plain": [
       "        index  second col  third col  fourth col  fifth col  sixth col  \\\n",
       "0   first row    0.019490   0.632669   -0.343938  -0.498723   1.965150   \n",
       "1   third row   -0.093593   0.741650   -0.854001   0.842118   0.218802   \n",
       "2  fourth row   -0.850493   0.800470   -2.008947  -1.187297   0.319317   \n",
       "3   fifth row    0.314050  -0.154098   -0.253282  -0.905114  -0.656227   \n",
       "\n",
       "  new name  \n",
       "0     This  \n",
       "1       is  \n",
       "2      the  \n",
       "3      row  "
      ]
     },
     "execution_count": 65,
     "metadata": {},
     "output_type": "execute_result"
    }
   ],
   "source": [
    "df4['new name'] = ['This','is','the','row']\n",
    "df4"
   ]
  },
  {
   "cell_type": "code",
   "execution_count": 66,
   "metadata": {},
   "outputs": [
    {
     "data": {
      "text/html": [
       "<div>\n",
       "<style scoped>\n",
       "    .dataframe tbody tr th:only-of-type {\n",
       "        vertical-align: middle;\n",
       "    }\n",
       "\n",
       "    .dataframe tbody tr th {\n",
       "        vertical-align: top;\n",
       "    }\n",
       "\n",
       "    .dataframe thead th {\n",
       "        text-align: right;\n",
       "    }\n",
       "</style>\n",
       "<table border=\"1\" class=\"dataframe\">\n",
       "  <thead>\n",
       "    <tr style=\"text-align: right;\">\n",
       "      <th></th>\n",
       "      <th>index</th>\n",
       "      <th>second col</th>\n",
       "      <th>third col</th>\n",
       "      <th>fourth col</th>\n",
       "      <th>fifth col</th>\n",
       "      <th>sixth col</th>\n",
       "    </tr>\n",
       "    <tr>\n",
       "      <th>new name</th>\n",
       "      <th></th>\n",
       "      <th></th>\n",
       "      <th></th>\n",
       "      <th></th>\n",
       "      <th></th>\n",
       "      <th></th>\n",
       "    </tr>\n",
       "  </thead>\n",
       "  <tbody>\n",
       "    <tr>\n",
       "      <th>This</th>\n",
       "      <td>first row</td>\n",
       "      <td>0.019490</td>\n",
       "      <td>0.632669</td>\n",
       "      <td>-0.343938</td>\n",
       "      <td>-0.498723</td>\n",
       "      <td>1.965150</td>\n",
       "    </tr>\n",
       "    <tr>\n",
       "      <th>is</th>\n",
       "      <td>third row</td>\n",
       "      <td>-0.093593</td>\n",
       "      <td>0.741650</td>\n",
       "      <td>-0.854001</td>\n",
       "      <td>0.842118</td>\n",
       "      <td>0.218802</td>\n",
       "    </tr>\n",
       "    <tr>\n",
       "      <th>the</th>\n",
       "      <td>fourth row</td>\n",
       "      <td>-0.850493</td>\n",
       "      <td>0.800470</td>\n",
       "      <td>-2.008947</td>\n",
       "      <td>-1.187297</td>\n",
       "      <td>0.319317</td>\n",
       "    </tr>\n",
       "    <tr>\n",
       "      <th>row</th>\n",
       "      <td>fifth row</td>\n",
       "      <td>0.314050</td>\n",
       "      <td>-0.154098</td>\n",
       "      <td>-0.253282</td>\n",
       "      <td>-0.905114</td>\n",
       "      <td>-0.656227</td>\n",
       "    </tr>\n",
       "  </tbody>\n",
       "</table>\n",
       "</div>"
      ],
      "text/plain": [
       "               index  second col  third col  fourth col  fifth col  sixth col\n",
       "new name                                                                     \n",
       "This       first row    0.019490   0.632669   -0.343938  -0.498723   1.965150\n",
       "is         third row   -0.093593   0.741650   -0.854001   0.842118   0.218802\n",
       "the       fourth row   -0.850493   0.800470   -2.008947  -1.187297   0.319317\n",
       "row        fifth row    0.314050  -0.154098   -0.253282  -0.905114  -0.656227"
      ]
     },
     "execution_count": 66,
     "metadata": {},
     "output_type": "execute_result"
    }
   ],
   "source": [
    "df4.set_index('new name',inplace=True)\n",
    "df4"
   ]
  },
  {
   "cell_type": "code",
   "execution_count": 67,
   "metadata": {},
   "outputs": [
    {
     "data": {
      "text/html": [
       "<div>\n",
       "<style scoped>\n",
       "    .dataframe tbody tr th:only-of-type {\n",
       "        vertical-align: middle;\n",
       "    }\n",
       "\n",
       "    .dataframe tbody tr th {\n",
       "        vertical-align: top;\n",
       "    }\n",
       "\n",
       "    .dataframe thead th {\n",
       "        text-align: right;\n",
       "    }\n",
       "</style>\n",
       "<table border=\"1\" class=\"dataframe\">\n",
       "  <thead>\n",
       "    <tr style=\"text-align: right;\">\n",
       "      <th></th>\n",
       "      <th>second col</th>\n",
       "      <th>third col</th>\n",
       "      <th>fourth col</th>\n",
       "      <th>fifth col</th>\n",
       "      <th>sixth col</th>\n",
       "    </tr>\n",
       "    <tr>\n",
       "      <th>index</th>\n",
       "      <th></th>\n",
       "      <th></th>\n",
       "      <th></th>\n",
       "      <th></th>\n",
       "      <th></th>\n",
       "    </tr>\n",
       "  </thead>\n",
       "  <tbody>\n",
       "    <tr>\n",
       "      <th>first row</th>\n",
       "      <td>0.019490</td>\n",
       "      <td>0.632669</td>\n",
       "      <td>-0.343938</td>\n",
       "      <td>-0.498723</td>\n",
       "      <td>1.965150</td>\n",
       "    </tr>\n",
       "    <tr>\n",
       "      <th>third row</th>\n",
       "      <td>-0.093593</td>\n",
       "      <td>0.741650</td>\n",
       "      <td>-0.854001</td>\n",
       "      <td>0.842118</td>\n",
       "      <td>0.218802</td>\n",
       "    </tr>\n",
       "    <tr>\n",
       "      <th>fourth row</th>\n",
       "      <td>-0.850493</td>\n",
       "      <td>0.800470</td>\n",
       "      <td>-2.008947</td>\n",
       "      <td>-1.187297</td>\n",
       "      <td>0.319317</td>\n",
       "    </tr>\n",
       "    <tr>\n",
       "      <th>fifth row</th>\n",
       "      <td>0.314050</td>\n",
       "      <td>-0.154098</td>\n",
       "      <td>-0.253282</td>\n",
       "      <td>-0.905114</td>\n",
       "      <td>-0.656227</td>\n",
       "    </tr>\n",
       "  </tbody>\n",
       "</table>\n",
       "</div>"
      ],
      "text/plain": [
       "            second col  third col  fourth col  fifth col  sixth col\n",
       "index                                                              \n",
       "first row     0.019490   0.632669   -0.343938  -0.498723   1.965150\n",
       "third row    -0.093593   0.741650   -0.854001   0.842118   0.218802\n",
       "fourth row   -0.850493   0.800470   -2.008947  -1.187297   0.319317\n",
       "fifth row     0.314050  -0.154098   -0.253282  -0.905114  -0.656227"
      ]
     },
     "execution_count": 67,
     "metadata": {},
     "output_type": "execute_result"
    }
   ],
   "source": [
    "df4.set_index('index',inplace=True)\n",
    "df4"
   ]
  },
  {
   "cell_type": "code",
   "execution_count": null,
   "metadata": {},
   "outputs": [],
   "source": []
  }
 ],
 "metadata": {
  "kernelspec": {
   "display_name": "Python 3",
   "language": "python",
   "name": "python3"
  },
  "language_info": {
   "codemirror_mode": {
    "name": "ipython",
    "version": 3
   },
   "file_extension": ".py",
   "mimetype": "text/x-python",
   "name": "python",
   "nbconvert_exporter": "python",
   "pygments_lexer": "ipython3",
   "version": "3.7.4"
  }
 },
 "nbformat": 4,
 "nbformat_minor": 4
}
